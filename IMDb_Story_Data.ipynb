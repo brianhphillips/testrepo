{
  "nbformat": 4,
  "nbformat_minor": 0,
  "metadata": {
    "colab": {
      "provenance": [],
      "authorship_tag": "ABX9TyMD7oygAgBssbqyZtquLtkn",
      "include_colab_link": true
    },
    "kernelspec": {
      "name": "python3",
      "display_name": "Python 3"
    },
    "language_info": {
      "name": "python"
    }
  },
  "cells": [
    {
      "cell_type": "markdown",
      "metadata": {
        "id": "view-in-github",
        "colab_type": "text"
      },
      "source": [
        "<a href=\"https://colab.research.google.com/github/brianhphillips/testrepo/blob/main/IMDb_Story_Data.ipynb\" target=\"_parent\"><img src=\"https://colab.research.google.com/assets/colab-badge.svg\" alt=\"Open In Colab\"/></a>"
      ]
    },
    {
      "cell_type": "code",
      "execution_count": 1,
      "metadata": {
        "colab": {
          "base_uri": "https://localhost:8080/"
        },
        "id": "5_HRt5JN5fst",
        "outputId": "d1545d6f-6afc-4fda-bcb3-84712af40c44"
      },
      "outputs": [
        {
          "output_type": "stream",
          "name": "stdout",
          "text": [
            "Mounted at /content/drive\n"
          ]
        }
      ],
      "source": [
        "from google.colab import drive\n",
        "drive.mount('/content/drive')\n",
        "\n",
        "# Define path to your IMDb dataset folder in Drive\n",
        "imdb_path = \"/content/drive/MyDrive/\""
      ]
    },
    {
      "cell_type": "code",
      "source": [
        "import pandas as pd\n",
        "\n",
        "people_of_interest = [\n",
        "    \"Rick Jaffa\", \"Amanda Silver\", \"Jennifer Lee\", \"Brenda Chapman\", \"James Cameron\",\n",
        "    \"Steve Ditko\", \"J.R.R. Tolkien\", \"J.K. Rowling\", \"Stan Lee\", \"Jack Kirby\",\n",
        "    \"Gary Scott Thompson\", \"Andrew Stanton\", \"Bob Peterson\", \"Rich Moore\", \"Jim Reardon\",\n",
        "    \"Robert Wade\", \"Neal Purvis\", \"Suzanne Collins\", \"David S. Goyer\", \"Larry Lieber\"\n",
        "]\n",
        "\n",
        "# Load name.basics in chunks to find nconst for target people\n",
        "name_file = imdb_path + \"name.basics.tsv\"\n",
        "name_df = pd.read_csv(name_file, sep=\"\\t\", usecols=[\"nconst\", \"primaryName\"], dtype=str)\n",
        "\n",
        "# Filter to get their IMDb nconst IDs\n",
        "selected_people = name_df[name_df[\"primaryName\"].isin(people_of_interest)]\n",
        "nconst_set = set(selected_people[\"nconst\"])"
      ],
      "metadata": {
        "id": "2h_JRFlI5kDR"
      },
      "execution_count": 2,
      "outputs": []
    },
    {
      "cell_type": "code",
      "source": [
        "principal_file = imdb_path + \"title.principals.tsv\"\n",
        "filtered_rows = []\n",
        "\n",
        "with open(principal_file, 'rt') as f:\n",
        "    header = next(f).strip().split('\\t')\n",
        "    for line in f:\n",
        "        parts = line.strip().split('\\t')\n",
        "        nconst, category = parts[2], parts[3]\n",
        "        if nconst in nconst_set and category in {\"writer\", \"story\"}:\n",
        "            filtered_rows.append(dict(zip(header, parts)))\n",
        "\n",
        "story_df = pd.DataFrame(filtered_rows)"
      ],
      "metadata": {
        "id": "Fs0CRVkC5llP"
      },
      "execution_count": 5,
      "outputs": []
    },
    {
      "cell_type": "code",
      "source": [
        "ratings_file = imdb_path + \"title.ratings.tsv\"\n",
        "ratings_df = pd.read_csv(ratings_file, sep=\"\\t\", usecols=[\"tconst\", \"averageRating\"], dtype={\"tconst\": str, \"averageRating\": float})"
      ],
      "metadata": {
        "id": "tf3DJaof5ni0"
      },
      "execution_count": 6,
      "outputs": []
    },
    {
      "cell_type": "code",
      "source": [
        "story_with_ratings = story_df.merge(ratings_df, on=\"tconst\", how=\"inner\")\n",
        "story_with_ratings = story_with_ratings.merge(selected_people, on=\"nconst\", how=\"left\")"
      ],
      "metadata": {
        "id": "Et31GXdh5pe6"
      },
      "execution_count": 7,
      "outputs": []
    },
    {
      "cell_type": "code",
      "source": [
        "# Load just movie IDs from title.basics\n",
        "title_file = imdb_path + \"title.basics.tsv\"\n",
        "movie_ids = pd.read_csv(title_file, sep=\"\\t\", usecols=[\"tconst\", \"titleType\"], dtype=str)\n",
        "movie_ids = movie_ids[ movie_ids[\"titleType\"] == \"movie\" ][[\"tconst\"]]\n",
        "\n",
        "# Filter story titles to movies only\n",
        "story_with_ratings = story_with_ratings.merge(movie_ids, on=\"tconst\", how=\"inner\")"
      ],
      "metadata": {
        "id": "Fm8k3bjh5uOo"
      },
      "execution_count": 8,
      "outputs": []
    },
    {
      "cell_type": "code",
      "source": [
        "average_scores = (\n",
        "    story_with_ratings.groupby(\"primaryName\")[\"averageRating\"]\n",
        "    .mean()\n",
        "    .sort_values(ascending=False)\n",
        "    .reset_index()\n",
        ")\n",
        "\n",
        "print(average_scores)"
      ],
      "metadata": {
        "colab": {
          "base_uri": "https://localhost:8080/"
        },
        "id": "9nm40efV5v9K",
        "outputId": "018cb2e2-c581-44a5-a163-59539c7136a9"
      },
      "execution_count": 9,
      "outputs": [
        {
          "output_type": "stream",
          "name": "stdout",
          "text": [
            "            primaryName  averageRating\n",
            "0           Jim Reardon       7.775000\n",
            "1        Andrew Stanton       7.744444\n",
            "2          Bob Peterson       7.733333\n",
            "3            Rich Moore       7.566667\n",
            "4        Brenda Chapman       7.550000\n",
            "5          J.K. Rowling       7.409091\n",
            "6         James Cameron       6.993333\n",
            "7        J.R.R. Tolkien       6.975000\n",
            "8            Rick Jaffa       6.966667\n",
            "9         Amanda Silver       6.940000\n",
            "10          Steve Ditko       6.927273\n",
            "11         Larry Lieber       6.750000\n",
            "12           Jack Kirby       6.725000\n",
            "13          Neal Purvis       6.684615\n",
            "14          Robert Wade       6.684615\n",
            "15             Stan Lee       6.618750\n",
            "16      Suzanne Collins       6.550000\n",
            "17         Jennifer Lee       6.500000\n",
            "18       David S. Goyer       6.322222\n",
            "19  Gary Scott Thompson       5.887500\n"
          ]
        }
      ]
    }
  ]
}