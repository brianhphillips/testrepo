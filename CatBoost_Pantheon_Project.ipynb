{
  "nbformat": 4,
  "nbformat_minor": 0,
  "metadata": {
    "colab": {
      "provenance": [],
      "authorship_tag": "ABX9TyPLXgnipwt+st1kO+ch46C+",
      "include_colab_link": true
    },
    "kernelspec": {
      "name": "python3",
      "display_name": "Python 3"
    },
    "language_info": {
      "name": "python"
    }
  },
  "cells": [
    {
      "cell_type": "markdown",
      "metadata": {
        "id": "view-in-github",
        "colab_type": "text"
      },
      "source": [
        "<a href=\"https://colab.research.google.com/github/brianhphillips/testrepo/blob/main/CatBoost_Pantheon_Project.ipynb\" target=\"_parent\"><img src=\"https://colab.research.google.com/assets/colab-badge.svg\" alt=\"Open In Colab\"/></a>"
      ]
    },
    {
      "cell_type": "code",
      "source": [
        "from IPython import get_ipython\n",
        "from IPython.display import display"
      ],
      "metadata": {
        "id": "FK3oIrhK21qY"
      },
      "execution_count": 12,
      "outputs": []
    },
    {
      "cell_type": "code",
      "source": [
        "# %%\n",
        "!pip install catboost\n",
        "import pandas as pd\n",
        "from catboost import CatBoostRegressor, Pool\n",
        "from sklearn.model_selection import train_test_split\n",
        "from sklearn.metrics import mean_squared_error\n",
        "import kagglehub\n",
        "from sklearn.model_selection import train_test_split\n",
        "from sklearn.metrics import mean_squared_error\n",
        "import kagglehub\n",
        "# %%"
      ],
      "metadata": {
        "colab": {
          "base_uri": "https://localhost:8080/"
        },
        "id": "3kf3ZkX33ExT",
        "outputId": "43e9c988-3f84-4a85-9bd7-b958e7d97a65"
      },
      "execution_count": 13,
      "outputs": [
        {
          "output_type": "stream",
          "name": "stdout",
          "text": [
            "Requirement already satisfied: catboost in /usr/local/lib/python3.11/dist-packages (1.2.8)\n",
            "Requirement already satisfied: graphviz in /usr/local/lib/python3.11/dist-packages (from catboost) (0.20.3)\n",
            "Requirement already satisfied: matplotlib in /usr/local/lib/python3.11/dist-packages (from catboost) (3.10.0)\n",
            "Requirement already satisfied: numpy<3.0,>=1.16.0 in /usr/local/lib/python3.11/dist-packages (from catboost) (2.0.2)\n",
            "Requirement already satisfied: pandas>=0.24 in /usr/local/lib/python3.11/dist-packages (from catboost) (2.2.2)\n",
            "Requirement already satisfied: scipy in /usr/local/lib/python3.11/dist-packages (from catboost) (1.15.3)\n",
            "Requirement already satisfied: plotly in /usr/local/lib/python3.11/dist-packages (from catboost) (5.24.1)\n",
            "Requirement already satisfied: six in /usr/local/lib/python3.11/dist-packages (from catboost) (1.17.0)\n",
            "Requirement already satisfied: python-dateutil>=2.8.2 in /usr/local/lib/python3.11/dist-packages (from pandas>=0.24->catboost) (2.9.0.post0)\n",
            "Requirement already satisfied: pytz>=2020.1 in /usr/local/lib/python3.11/dist-packages (from pandas>=0.24->catboost) (2025.2)\n",
            "Requirement already satisfied: tzdata>=2022.7 in /usr/local/lib/python3.11/dist-packages (from pandas>=0.24->catboost) (2025.2)\n",
            "Requirement already satisfied: contourpy>=1.0.1 in /usr/local/lib/python3.11/dist-packages (from matplotlib->catboost) (1.3.2)\n",
            "Requirement already satisfied: cycler>=0.10 in /usr/local/lib/python3.11/dist-packages (from matplotlib->catboost) (0.12.1)\n",
            "Requirement already satisfied: fonttools>=4.22.0 in /usr/local/lib/python3.11/dist-packages (from matplotlib->catboost) (4.58.1)\n",
            "Requirement already satisfied: kiwisolver>=1.3.1 in /usr/local/lib/python3.11/dist-packages (from matplotlib->catboost) (1.4.8)\n",
            "Requirement already satisfied: packaging>=20.0 in /usr/local/lib/python3.11/dist-packages (from matplotlib->catboost) (24.2)\n",
            "Requirement already satisfied: pillow>=8 in /usr/local/lib/python3.11/dist-packages (from matplotlib->catboost) (11.2.1)\n",
            "Requirement already satisfied: pyparsing>=2.3.1 in /usr/local/lib/python3.11/dist-packages (from matplotlib->catboost) (3.2.3)\n",
            "Requirement already satisfied: tenacity>=6.2.0 in /usr/local/lib/python3.11/dist-packages (from plotly->catboost) (9.1.2)\n"
          ]
        }
      ]
    },
    {
      "cell_type": "code",
      "source": [
        "# Download latest version\n",
        "path = kagglehub.dataset_download(\"mit/pantheon-project\")\n",
        "\n",
        "print(\"Path to dataset files:\", path)\n",
        "# %%"
      ],
      "metadata": {
        "colab": {
          "base_uri": "https://localhost:8080/"
        },
        "id": "mZXHGvSt3Cti",
        "outputId": "4a719cea-8d69-4947-f57a-b64f51bc2bd2"
      },
      "execution_count": 14,
      "outputs": [
        {
          "output_type": "stream",
          "name": "stdout",
          "text": [
            "Path to dataset files: /kaggle/input/pantheon-project\n"
          ]
        }
      ]
    },
    {
      "cell_type": "code",
      "source": [
        "# Load dataset\n",
        "csv_file = f\"{path}/database.csv\"\n",
        "df = pd.read_csv(csv_file)\n",
        "# %%"
      ],
      "metadata": {
        "id": "dBT9NsZo3Al6"
      },
      "execution_count": 15,
      "outputs": []
    },
    {
      "cell_type": "code",
      "source": [
        "# Identify target and features\n",
        "target = 'page_views'\n",
        "X = df.drop(columns=[target,'average_views','article_languages','article_id','historical_popularity_index'])\n",
        "y = df[target]\n",
        "# %%"
      ],
      "metadata": {
        "id": "xdYTgCqA2-tB"
      },
      "execution_count": 31,
      "outputs": []
    },
    {
      "cell_type": "code",
      "source": [
        "# Identify categorical columns (example: you may need to adjust based on your dataset)\n",
        "categorical_cols = X.select_dtypes(include=['object', 'category']).columns.tolist()"
      ],
      "metadata": {
        "id": "wdqhlKXc29uz"
      },
      "execution_count": 32,
      "outputs": []
    },
    {
      "cell_type": "code",
      "source": [
        "# Fill NaN values in categorical columns with a placeholder string\n",
        "for col in categorical_cols:\n",
        "    if col in X.columns: # Check if the column exists in X\n",
        "        X[col] = X[col].fillna('NaN').astype(str)\n",
        "\n",
        "# %%"
      ],
      "metadata": {
        "id": "XpYUkmEd28Yl"
      },
      "execution_count": 33,
      "outputs": []
    },
    {
      "cell_type": "code",
      "source": [
        "# Train-test split\n",
        "X_train, X_test, y_train, y_test = train_test_split(X, y, test_size=0.2, random_state=42)\n",
        "# %%"
      ],
      "metadata": {
        "id": "IVGKOCeV266l"
      },
      "execution_count": 34,
      "outputs": []
    },
    {
      "cell_type": "code",
      "source": [
        "# Initialize and train model\n",
        "model = CatBoostRegressor(\n",
        "    iterations=1000,\n",
        "    learning_rate=0.1,\n",
        "    depth=6,\n",
        "    cat_features=categorical_cols,\n",
        "    verbose=100\n",
        ")\n",
        "model.fit(X_train, y_train)\n",
        "# %%"
      ],
      "metadata": {
        "colab": {
          "base_uri": "https://localhost:8080/"
        },
        "id": "pqsj9UIx25xJ",
        "outputId": "29e0a37b-b3e5-479f-b61d-fbd4a8f540bc"
      },
      "execution_count": 35,
      "outputs": [
        {
          "output_type": "stream",
          "name": "stdout",
          "text": [
            "0:\tlearn: 7539413.4148988\ttotal: 27.6ms\tremaining: 27.5s\n",
            "100:\tlearn: 6573184.4656685\ttotal: 2.03s\tremaining: 18.1s\n",
            "200:\tlearn: 6396554.7131252\ttotal: 4.05s\tremaining: 16.1s\n",
            "300:\tlearn: 6226639.4141704\ttotal: 7.44s\tremaining: 17.3s\n",
            "400:\tlearn: 6065351.8488672\ttotal: 9.64s\tremaining: 14.4s\n",
            "500:\tlearn: 5919370.3845955\ttotal: 11.8s\tremaining: 11.7s\n",
            "600:\tlearn: 5760880.5531277\ttotal: 13.9s\tremaining: 9.24s\n",
            "700:\tlearn: 5630275.4916345\ttotal: 16.2s\tremaining: 6.9s\n",
            "800:\tlearn: 5500563.0145556\ttotal: 19.8s\tremaining: 4.91s\n",
            "900:\tlearn: 5381636.1383580\ttotal: 21.9s\tremaining: 2.41s\n",
            "999:\tlearn: 5267994.5183523\ttotal: 24.1s\tremaining: 0us\n"
          ]
        },
        {
          "output_type": "execute_result",
          "data": {
            "text/plain": [
              "<catboost.core.CatBoostRegressor at 0x7e775b70e610>"
            ]
          },
          "metadata": {},
          "execution_count": 35
        }
      ]
    },
    {
      "cell_type": "code",
      "source": [
        "# Predict and evaluate\n",
        "y_pred = model.predict(X_test)\n",
        "mse = mean_squared_error(y_test, y_pred)\n",
        "print(\"MSE:\", mse)"
      ],
      "metadata": {
        "colab": {
          "base_uri": "https://localhost:8080/"
        },
        "id": "xSwT1E3s24e3",
        "outputId": "d8181406-720d-465f-c757-7bb04d798286"
      },
      "execution_count": 36,
      "outputs": [
        {
          "output_type": "stream",
          "name": "stdout",
          "text": [
            "MSE: 53378487950141.74\n"
          ]
        }
      ]
    },
    {
      "cell_type": "code",
      "source": [
        "import matplotlib.pyplot as plt\n",
        "import seaborn as sns\n",
        "\n",
        "feature_importances = model.get_feature_importance(prettified=True)\n",
        "plt.figure(figsize=(10, 6))\n",
        "sns.barplot(x='Importances', y='Feature Id', data=feature_importances.sort_values(by='Importances', ascending=False))\n",
        "plt.title(\"CatBoost Feature Importance\")\n",
        "plt.xlabel(\"Importance Score\")\n",
        "plt.ylabel(\"Feature\")\n",
        "plt.tight_layout()\n",
        "plt.show()"
      ],
      "metadata": {
        "colab": {
          "base_uri": "https://localhost:8080/",
          "height": 607
        },
        "id": "_MBwhCYN3X4f",
        "outputId": "c3d13c5e-77ab-4e87-df5e-8186f92c6bb5"
      },
      "execution_count": 37,
      "outputs": [
        {
          "output_type": "display_data",
          "data": {
            "text/plain": [
              "<Figure size 1000x600 with 1 Axes>"
            ],
            "image/png": "[encoded data removed]"
          },
          "metadata": {}
        }
      ]
    }
  ]
}