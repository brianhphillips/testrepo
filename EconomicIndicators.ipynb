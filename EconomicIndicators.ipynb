{
  "nbformat": 4,
  "nbformat_minor": 0,
  "metadata": {
    "colab": {
      "provenance": [],
      "authorship_tag": "ABX9TyNb2cWVSrEaCYed3m8lTj2U",
      "include_colab_link": true
    },
    "kernelspec": {
      "name": "python3",
      "display_name": "Python 3"
    },
    "language_info": {
      "name": "python"
    }
  },
  "cells": [
    {
      "cell_type": "markdown",
      "metadata": {
        "id": "view-in-github",
        "colab_type": "text"
      },
      "source": [
        "<a href=\"https://colab.research.google.com/github/brianhphillips/testrepo/blob/main/EconomicIndicators.ipynb\" target=\"_parent\"><img src=\"https://colab.research.google.com/assets/colab-badge.svg\" alt=\"Open In Colab\"/></a>"
      ]
    },
    {
      "cell_type": "code",
      "source": [
        "!pip install bvar"
      ],
      "metadata": {
        "id": "ZF1apQng4-nM"
      },
      "execution_count": null,
      "outputs": []
    },
    {
      "cell_type": "code",
      "source": [
        "# STEP 1: Import packages and mount Google Drive\n",
        "import pandas as pd\n",
        "import numpy as np\n",
        "import matplotlib.pyplot as plt\n",
        "from google.colab import drive\n",
        "from bvar import BVAR\n",
        "\n",
        "# Mount Google Drive\n",
        "drive.mount('/content/drive')\n",
        "\n",
        "# STEP 2: Load data from Google Drive\n",
        "file_path = '/content/drive/My Drive/Economic Indicators.csv'\n",
        "df = pd.read_csv(file_path)\n",
        "\n",
        "# STEP 3: Convert date column and preprocess\n",
        "df['observation_date'] = pd.to_datetime(df['observation_date'])\n",
        "df.set_index('observation_date', inplace=True)\n",
        "df = df.apply(pd.to_numeric, errors='coerce')\n",
        "df.dropna(inplace=True)\n",
        "\n",
        "# (Optional) Reduce variable set to make BVAR faster\n",
        "focus_vars = [\n",
        "    \"HighestTax\", \"LowestTax\", \"FederalDebt2GDP\",\n",
        "    \"FedRate\", \"M2Velocity\", \"RealM2\"\n",
        "]\n",
        "df = df[focus_vars]\n",
        "\n",
        "# STEP 4: Difference to ensure stationarity\n",
        "df_diff = df.diff().dropna()\n",
        "\n",
        "# STEP 5: Fit Bayesian VAR model\n",
        "model = BVAR(df_diff, lags=2)  # You can try lags=1, 2, or 3\n",
        "model.fit()\n",
        "\n",
        "# STEP 6: Summary of estimated coefficients\n",
        "print(\"BVAR Coefficients:\")\n",
        "print(model.coefs)\n",
        "\n",
        "# STEP 7: Forecasting (optional)\n",
        "forecast = model.forecast(steps=5)\n",
        "print(\"\\n5-step Forecast:\")\n",
        "print(forecast)\n",
        "\n",
        "# STEP 8: Impulse Response Functions (IRFs)\n",
        "irfs = model.irf(steps=10)\n",
        "irfs.plot()\n",
        "plt.tight_layout()\n",
        "plt.show()"
      ],
      "metadata": {
        "colab": {
          "base_uri": "https://localhost:8080/",
          "height": 378
        },
        "id": "LlMT-slA4_Vi",
        "outputId": "8ad9a455-232f-4145-8011-ee6b17f4b10e"
      },
      "execution_count": 28,
      "outputs": [
        {
          "output_type": "error",
          "ename": "ModuleNotFoundError",
          "evalue": "No module named 'bvar'",
          "traceback": [
            "\u001b[0;31m---------------------------------------------------------------------------\u001b[0m",
            "\u001b[0;31mModuleNotFoundError\u001b[0m                       Traceback (most recent call last)",
            "\u001b[0;32m<ipython-input-28-a0105af8ed21>\u001b[0m in \u001b[0;36m<cell line: 0>\u001b[0;34m()\u001b[0m\n\u001b[1;32m      4\u001b[0m \u001b[0;32mimport\u001b[0m \u001b[0mmatplotlib\u001b[0m\u001b[0;34m.\u001b[0m\u001b[0mpyplot\u001b[0m \u001b[0;32mas\u001b[0m \u001b[0mplt\u001b[0m\u001b[0;34m\u001b[0m\u001b[0;34m\u001b[0m\u001b[0m\n\u001b[1;32m      5\u001b[0m \u001b[0;32mfrom\u001b[0m \u001b[0mgoogle\u001b[0m\u001b[0;34m.\u001b[0m\u001b[0mcolab\u001b[0m \u001b[0;32mimport\u001b[0m \u001b[0mdrive\u001b[0m\u001b[0;34m\u001b[0m\u001b[0;34m\u001b[0m\u001b[0m\n\u001b[0;32m----> 6\u001b[0;31m \u001b[0;32mfrom\u001b[0m \u001b[0mbvar\u001b[0m \u001b[0;32mimport\u001b[0m \u001b[0mBVAR\u001b[0m\u001b[0;34m\u001b[0m\u001b[0;34m\u001b[0m\u001b[0m\n\u001b[0m\u001b[1;32m      7\u001b[0m \u001b[0;34m\u001b[0m\u001b[0m\n\u001b[1;32m      8\u001b[0m \u001b[0;31m# Mount Google Drive\u001b[0m\u001b[0;34m\u001b[0m\u001b[0;34m\u001b[0m\u001b[0m\n",
            "\u001b[0;31mModuleNotFoundError\u001b[0m: No module named 'bvar'",
            "",
            "\u001b[0;31m---------------------------------------------------------------------------\u001b[0;32m\nNOTE: If your import is failing due to a missing package, you can\nmanually install dependencies using either !pip or !apt.\n\nTo view examples of installing some common dependencies, click the\n\"Open Examples\" button below.\n\u001b[0;31m---------------------------------------------------------------------------\u001b[0m\n"
          ],
          "errorDetails": {
            "actions": [
              {
                "action": "open_url",
                "actionText": "Open Examples",
                "url": "/notebooks/snippets/importing_libraries.ipynb"
              }
            ]
          }
        }
      ]
    }
  ]
}