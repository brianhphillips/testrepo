{
  "nbformat": 4,
  "nbformat_minor": 0,
  "metadata": {
    "colab": {
      "provenance": [],
      "authorship_tag": "ABX9TyMjirgwlz7ePTtBO11N1N9G",
      "include_colab_link": true
    },
    "kernelspec": {
      "name": "python3",
      "display_name": "Python 3"
    },
    "language_info": {
      "name": "python"
    }
  },
  "cells": [
    {
      "cell_type": "markdown",
      "metadata": {
        "id": "view-in-github",
        "colab_type": "text"
      },
      "source": [
        "<a href=\"https://colab.research.google.com/github/brianhphillips/testrepo/blob/main/CatBoost_RetailInventory.ipynb\" target=\"_parent\"><img src=\"https://colab.research.google.com/assets/colab-badge.svg\" alt=\"Open In Colab\"/></a>"
      ]
    },
    {
      "cell_type": "code",
      "execution_count": 2,
      "metadata": {
        "colab": {
          "base_uri": "https://localhost:8080/"
        },
        "id": "IU5_EayW4AFF",
        "outputId": "e2016bfb-5cfc-4300-947c-dd056e55fa1d"
      },
      "outputs": [
        {
          "output_type": "stream",
          "name": "stdout",
          "text": [
            "Collecting catboost\n",
            "  Downloading catboost-1.2.8-cp311-cp311-manylinux2014_x86_64.whl.metadata (1.2 kB)\n",
            "Requirement already satisfied: graphviz in /usr/local/lib/python3.11/dist-packages (from catboost) (0.20.3)\n",
            "Requirement already satisfied: matplotlib in /usr/local/lib/python3.11/dist-packages (from catboost) (3.10.0)\n",
            "Requirement already satisfied: numpy<3.0,>=1.16.0 in /usr/local/lib/python3.11/dist-packages (from catboost) (2.0.2)\n",
            "Requirement already satisfied: pandas>=0.24 in /usr/local/lib/python3.11/dist-packages (from catboost) (2.2.2)\n",
            "Requirement already satisfied: scipy in /usr/local/lib/python3.11/dist-packages (from catboost) (1.15.3)\n",
            "Requirement already satisfied: plotly in /usr/local/lib/python3.11/dist-packages (from catboost) (5.24.1)\n",
            "Requirement already satisfied: six in /usr/local/lib/python3.11/dist-packages (from catboost) (1.17.0)\n",
            "Requirement already satisfied: python-dateutil>=2.8.2 in /usr/local/lib/python3.11/dist-packages (from pandas>=0.24->catboost) (2.9.0.post0)\n",
            "Requirement already satisfied: pytz>=2020.1 in /usr/local/lib/python3.11/dist-packages (from pandas>=0.24->catboost) (2025.2)\n",
            "Requirement already satisfied: tzdata>=2022.7 in /usr/local/lib/python3.11/dist-packages (from pandas>=0.24->catboost) (2025.2)\n",
            "Requirement already satisfied: contourpy>=1.0.1 in /usr/local/lib/python3.11/dist-packages (from matplotlib->catboost) (1.3.2)\n",
            "Requirement already satisfied: cycler>=0.10 in /usr/local/lib/python3.11/dist-packages (from matplotlib->catboost) (0.12.1)\n",
            "Requirement already satisfied: fonttools>=4.22.0 in /usr/local/lib/python3.11/dist-packages (from matplotlib->catboost) (4.58.1)\n",
            "Requirement already satisfied: kiwisolver>=1.3.1 in /usr/local/lib/python3.11/dist-packages (from matplotlib->catboost) (1.4.8)\n",
            "Requirement already satisfied: packaging>=20.0 in /usr/local/lib/python3.11/dist-packages (from matplotlib->catboost) (24.2)\n",
            "Requirement already satisfied: pillow>=8 in /usr/local/lib/python3.11/dist-packages (from matplotlib->catboost) (11.2.1)\n",
            "Requirement already satisfied: pyparsing>=2.3.1 in /usr/local/lib/python3.11/dist-packages (from matplotlib->catboost) (3.2.3)\n",
            "Requirement already satisfied: tenacity>=6.2.0 in /usr/local/lib/python3.11/dist-packages (from plotly->catboost) (9.1.2)\n",
            "Downloading catboost-1.2.8-cp311-cp311-manylinux2014_x86_64.whl (99.2 MB)\n",
            "\u001b[2K   \u001b[90m━━━━━━━━━━━━━━━━━━━━━━━━━━━━━━━━━━━━━━━━\u001b[0m \u001b[32m99.2/99.2 MB\u001b[0m \u001b[31m9.4 MB/s\u001b[0m eta \u001b[36m0:00:00\u001b[0m\n",
            "\u001b[?25hInstalling collected packages: catboost\n",
            "Successfully installed catboost-1.2.8\n",
            "Path to dataset files: /kaggle/input/retail-store-inventory-and-demand-forecasting\n"
          ]
        }
      ],
      "source": [
        "# Step 1: Import Required Libraries\n",
        "!pip install catboost\n",
        "import pandas as pd\n",
        "import numpy as np\n",
        "import matplotlib.pyplot as plt\n",
        "from catboost import CatBoostRegressor, Pool, cv, CatBoost\n",
        "from sklearn.model_selection import train_test_split\n",
        "from sklearn.metrics import mean_squared_error\n",
        "import kagglehub\n",
        "\n",
        "# Download latest version\n",
        "path = kagglehub.dataset_download(\"atomicd/retail-store-inventory-and-demand-forecasting\")\n",
        "\n",
        "print(\"Path to dataset files:\", path)"
      ]
    },
    {
      "cell_type": "code",
      "source": [
        "# Step 2: Load the Dataset\n",
        "# Replace this with the path to your local CSV file if you've downloaded it\n",
        "csv_file = f\"{path}/sales_data.csv\"\n",
        "df = pd.read_csv(csv_file)"
      ],
      "metadata": {
        "id": "x2tyKXeH4NNL"
      },
      "execution_count": 3,
      "outputs": []
    },
    {
      "cell_type": "code",
      "source": [
        "# Step 3: Explore Dataset (optional)\n",
        "print(\"Dataset shape:\", df.shape)\n",
        "print(df.dtypes)\n",
        "print(df.head())"
      ],
      "metadata": {
        "colab": {
          "base_uri": "https://localhost:8080/"
        },
        "id": "2kai683i4L9v",
        "outputId": "2ed7042f-6c37-4866-c9b2-4adacde971b0"
      },
      "execution_count": 6,
      "outputs": [
        {
          "output_type": "stream",
          "name": "stdout",
          "text": [
            "Dataset shape: (76000, 16)\n",
            "Date                   object\n",
            "Store ID               object\n",
            "Product ID             object\n",
            "Category               object\n",
            "Region                 object\n",
            "Inventory Level         int64\n",
            "Units Sold              int64\n",
            "Units Ordered           int64\n",
            "Price                 float64\n",
            "Discount                int64\n",
            "Weather Condition      object\n",
            "Promotion               int64\n",
            "Competitor Pricing    float64\n",
            "Seasonality            object\n",
            "Epidemic                int64\n",
            "Demand                  int64\n",
            "dtype: object\n",
            "         Date Store ID Product ID     Category Region  Inventory Level  \\\n",
            "0  2022-01-01     S001      P0001  Electronics  North              195   \n",
            "1  2022-01-01     S001      P0002     Clothing  North              117   \n",
            "2  2022-01-01     S001      P0003     Clothing  North              247   \n",
            "3  2022-01-01     S001      P0004  Electronics  North              139   \n",
            "4  2022-01-01     S001      P0005    Groceries  North              152   \n",
            "\n",
            "   Units Sold  Units Ordered  Price  Discount Weather Condition  Promotion  \\\n",
            "0         102            252  72.72         5             Snowy          0   \n",
            "1         117            249  80.16        15             Snowy          1   \n",
            "2         114            612  62.94        10             Snowy          1   \n",
            "3          45            102  87.63        10             Snowy          0   \n",
            "4          65            271  54.41         0             Snowy          0   \n",
            "\n",
            "   Competitor Pricing Seasonality  Epidemic  Demand  \n",
            "0               85.73      Winter         0     115  \n",
            "1               92.02      Winter         0     229  \n",
            "2               60.08      Winter         0     157  \n",
            "3               85.19      Winter         0      52  \n",
            "4               51.63      Winter         0      59  \n"
          ]
        }
      ]
    },
    {
      "cell_type": "code",
      "source": [
        "# Step 4: Define Target and Features\n",
        "target = 'Units Sold'\n",
        "X = df.drop(columns=[target])\n",
        "y = df[target]"
      ],
      "metadata": {
        "id": "7mj-9w6M4K7V"
      },
      "execution_count": 8,
      "outputs": []
    },
    {
      "cell_type": "code",
      "source": [
        "# Step 5: Identify Categorical Features\n",
        "cat_features = X.select_dtypes(include=['object']).columns.tolist()\n",
        "print(\"Categorical features:\", cat_features)"
      ],
      "metadata": {
        "colab": {
          "base_uri": "https://localhost:8080/"
        },
        "id": "fjoGjlVa4J4Z",
        "outputId": "49320209-83fd-4815-d4d0-53b78f414991"
      },
      "execution_count": 9,
      "outputs": [
        {
          "output_type": "stream",
          "name": "stdout",
          "text": [
            "Categorical features: ['Date', 'Store ID', 'Product ID', 'Category', 'Region', 'Weather Condition', 'Seasonality']\n"
          ]
        }
      ]
    },
    {
      "cell_type": "code",
      "source": [
        "# Step 6: Train-Test Split\n",
        "X_train, X_test, y_train, y_test = train_test_split(X, y, test_size=0.2, random_state=42)"
      ],
      "metadata": {
        "id": "iaM3q4ks4I4m"
      },
      "execution_count": 10,
      "outputs": []
    },
    {
      "cell_type": "code",
      "source": [
        "# Step 7: Initialize CatBoostRegressor\n",
        "model = CatBoostRegressor(\n",
        "    iterations=1000,\n",
        "    learning_rate=0.1,\n",
        "    depth=6,\n",
        "    loss_function='RMSE',\n",
        "    cat_features=cat_features,\n",
        "    verbose=100,\n",
        "    random_seed=42\n",
        ")"
      ],
      "metadata": {
        "id": "1zX4cWKn4HvL"
      },
      "execution_count": 11,
      "outputs": []
    },
    {
      "cell_type": "code",
      "source": [
        "# Step 8: Fit the Model\n",
        "model.fit(X_train, y_train, cat_features=cat_features, eval_set=(X_test, y_test), early_stopping_rounds=50)"
      ],
      "metadata": {
        "colab": {
          "base_uri": "https://localhost:8080/"
        },
        "id": "H37zZG324GoV",
        "outputId": "42156033-62cf-483e-c4aa-b776a49bc38f"
      },
      "execution_count": 12,
      "outputs": [
        {
          "output_type": "stream",
          "name": "stdout",
          "text": [
            "0:\tlearn: 40.7931532\ttest: 40.5905842\tbest: 40.5905842 (0)\ttotal: 162ms\tremaining: 2m 41s\n",
            "100:\tlearn: 17.6171689\ttest: 17.7288593\tbest: 17.7288593 (100)\ttotal: 9.68s\tremaining: 1m 26s\n",
            "200:\tlearn: 17.4590382\ttest: 17.7271422\tbest: 17.7205730 (175)\ttotal: 20s\tremaining: 1m 19s\n",
            "Stopped by overfitting detector  (50 iterations wait)\n",
            "\n",
            "bestTest = 17.72057303\n",
            "bestIteration = 175\n",
            "\n",
            "Shrink model to first 176 iterations.\n"
          ]
        },
        {
          "output_type": "execute_result",
          "data": {
            "text/plain": [
              "<catboost.core.CatBoostRegressor at 0x7a70377be710>"
            ]
          },
          "metadata": {},
          "execution_count": 12
        }
      ]
    },
    {
      "cell_type": "code",
      "source": [
        "# Step 9: Evaluate the Model\n",
        "y_pred = model.predict(X_test)\n",
        "# Calculate RMSE manually by taking the square root of MSE\n",
        "rmse = np.sqrt(mean_squared_error(y_test, y_pred))\n",
        "print(f\"Test RMSE: {rmse:.2f}\")"
      ],
      "metadata": {
        "colab": {
          "base_uri": "https://localhost:8080/"
        },
        "id": "87x-bvDS4Esp",
        "outputId": "3900dcf7-2876-400b-979c-ef856a068f84"
      },
      "execution_count": 14,
      "outputs": [
        {
          "output_type": "stream",
          "name": "stdout",
          "text": [
            "Test RMSE: 17.72\n"
          ]
        }
      ]
    },
    {
      "cell_type": "code",
      "source": [
        "# Step 10: Feature Importance Visualization\n",
        "importances = model.get_feature_importance(prettified=True)\n",
        "print(importances)\n",
        "\n",
        "# Plotting\n",
        "plt.figure(figsize=(12, 6))\n",
        "plt.barh(importances['Feature Id'], importances['Importances'])\n",
        "plt.gca().invert_yaxis()\n",
        "plt.title('Feature Importance')\n",
        "plt.xlabel('Importance')\n",
        "plt.ylabel('Feature')\n",
        "plt.tight_layout()\n",
        "plt.show()"
      ],
      "metadata": {
        "colab": {
          "base_uri": "https://localhost:8080/",
          "height": 879
        },
        "id": "yvibsRoB4Dqy",
        "outputId": "8c782363-b92f-4a2a-d012-2fbb69469823"
      },
      "execution_count": 15,
      "outputs": [
        {
          "output_type": "stream",
          "name": "stdout",
          "text": [
            "            Feature Id  Importances\n",
            "0               Demand    74.665018\n",
            "1      Inventory Level    24.269723\n",
            "2        Units Ordered     0.284082\n",
            "3                 Date     0.126560\n",
            "4   Competitor Pricing     0.105917\n",
            "5          Seasonality     0.085092\n",
            "6    Weather Condition     0.082428\n",
            "7                Price     0.080386\n",
            "8           Product ID     0.068338\n",
            "9             Category     0.064209\n",
            "10            Discount     0.060722\n",
            "11              Region     0.052693\n",
            "12            Store ID     0.038849\n",
            "13           Promotion     0.015728\n",
            "14            Epidemic     0.000254\n"
          ]
        },
        {
          "output_type": "display_data",
          "data": {
            "text/plain": [
              "<Figure size 1200x600 with 1 Axes>"
            ],
            "image/png": "[encoded data removed]"
          },
          "metadata": {}
        }
      ]
    }
  ]
}