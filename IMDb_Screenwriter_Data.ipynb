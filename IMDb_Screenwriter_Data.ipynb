{
  "nbformat": 4,
  "nbformat_minor": 0,
  "metadata": {
    "colab": {
      "provenance": [],
      "authorship_tag": "ABX9TyNhcoNW8zMPu4meIi+WgwU9",
      "include_colab_link": true
    },
    "kernelspec": {
      "name": "python3",
      "display_name": "Python 3"
    },
    "language_info": {
      "name": "python"
    }
  },
  "cells": [
    {
      "cell_type": "markdown",
      "metadata": {
        "id": "view-in-github",
        "colab_type": "text"
      },
      "source": [
        "<a href=\"https://colab.research.google.com/github/brianhphillips/testrepo/blob/main/IMDb_Screenwriter_Data.ipynb\" target=\"_parent\"><img src=\"https://colab.research.google.com/assets/colab-badge.svg\" alt=\"Open In Colab\"/></a>"
      ]
    },
    {
      "cell_type": "code",
      "execution_count": 1,
      "metadata": {
        "colab": {
          "base_uri": "https://localhost:8080/"
        },
        "id": "CrME_d5d8pB7",
        "outputId": "81d17dcc-b35f-417e-daf2-eab80e4b6f45"
      },
      "outputs": [
        {
          "output_type": "stream",
          "name": "stdout",
          "text": [
            "Mounted at /content/drive\n"
          ]
        }
      ],
      "source": [
        "from google.colab import drive\n",
        "import pandas as pd\n",
        "\n",
        "# Mount Google Drive\n",
        "drive.mount('/content/drive')\n",
        "\n",
        "# Set base path\n",
        "base_path = '/content/drive/MyDrive/'  # update this path accordingly\n",
        "\n",
        "# Load the relevant datasets\n",
        "name_basics = pd.read_csv(base_path + 'name.basics.tsv', sep='\\t', na_values='\\\\N', dtype=str)\n",
        "title_basics = pd.read_csv(base_path + 'title.basics.tsv', sep='\\t', na_values='\\\\N', dtype=str)\n",
        "title_crew = pd.read_csv(base_path + 'title.crew.tsv', sep='\\t', na_values='\\\\N', dtype=str)\n",
        "title_ratings = pd.read_csv(base_path + 'title.ratings.tsv', sep='\\t', na_values='\\\\N', dtype=str)"
      ]
    },
    {
      "cell_type": "code",
      "source": [
        "# List of screenwriters\n",
        "screenwriters = [\n",
        "    \"James Cameron\", \"Steve Kloves\", \"Christopher Markus\", \"Stephen McFeely\",\n",
        "    \"Peter Jackson\", \"Philippa Boyens\", \"Andrew Stanton\", \"Chris McKenna\",\n",
        "    \"Amanda Silver\", \"Neal Purvis\", \"Erik Sommers\", \"Rick Jaffa\", \"J.J. Abrams\",\n",
        "    \"George Lucas\", \"Michael Arndt\", \"Jared Bush\", \"Colin Trevorrow\",\n",
        "    \"Meg LeFauve\", \"Jonathan Nolan\", \"Matthew Fogel\", \"Drew Pearce\",\n",
        "    \"Daniel Gerson\", \"Eric Darnell\", \"J.K. Rowling\"\n",
        "]\n",
        "\n",
        "# Filter name.basics to get nconsts for the screenwriters\n",
        "screenwriter_df = name_basics[name_basics['primaryName'].isin(screenwriters)][['nconst', 'primaryName']]"
      ],
      "metadata": {
        "id": "DoiKeVTQ8twU"
      },
      "execution_count": 2,
      "outputs": []
    },
    {
      "cell_type": "code",
      "source": [
        "# Explode writers list in title.crew\n",
        "title_crew_filtered = title_crew.dropna(subset=['writers']).copy()\n",
        "title_crew_filtered['writers'] = title_crew_filtered['writers'].str.split(',')\n",
        "\n",
        "# Explode to one row per writer\n",
        "title_crew_exploded = title_crew_filtered.explode('writers')\n",
        "\n",
        "# Filter to only screenwriters' nconsts\n",
        "written_titles = title_crew_exploded[title_crew_exploded['writers'].isin(screenwriter_df['nconst'])]"
      ],
      "metadata": {
        "id": "zWqXpWSu8v2P"
      },
      "execution_count": 3,
      "outputs": []
    },
    {
      "cell_type": "code",
      "source": [
        "# Merge ratings with the written titles\n",
        "written_titles_ratings = written_titles.merge(title_ratings, on='tconst')\n",
        "\n",
        "# Now join with screenwriter names for readability\n",
        "written_titles_ratings = written_titles_ratings.merge(\n",
        "    screenwriter_df,\n",
        "    left_on='writers',\n",
        "    right_on='nconst'\n",
        ")\n",
        "\n",
        "# Convert rating to float\n",
        "written_titles_ratings['averageRating'] = written_titles_ratings['averageRating'].astype(float)\n",
        "\n",
        "# Group by writer and compute average\n",
        "avg_ratings = written_titles_ratings.groupby('primaryName')['averageRating'].mean().reset_index()\n",
        "avg_ratings = avg_ratings.sort_values(by='averageRating', ascending=False)"
      ],
      "metadata": {
        "id": "GomdilSd8yK9"
      },
      "execution_count": 4,
      "outputs": []
    },
    {
      "cell_type": "code",
      "source": [
        "print(avg_ratings)"
      ],
      "metadata": {
        "colab": {
          "base_uri": "https://localhost:8080/"
        },
        "id": "Tmp24pQe80dU",
        "outputId": "40b05ccf-939e-4bf3-dc6c-1a124c35f552"
      },
      "execution_count": 5,
      "outputs": [
        {
          "output_type": "stream",
          "name": "stdout",
          "text": [
            "           primaryName  averageRating\n",
            "14      Jonathan Nolan       8.662667\n",
            "13          Jared Bush       8.239726\n",
            "20     Philippa Boyens       8.000000\n",
            "10         J.J. Abrams       7.958114\n",
            "17       Michael Arndt       7.627273\n",
            "19       Peter Jackson       7.603846\n",
            "2        Chris McKenna       7.590000\n",
            "3   Christopher Markus       7.574286\n",
            "22     Stephen McFeely       7.574286\n",
            "7         Eric Darnell       7.555615\n",
            "23        Steve Kloves       7.356250\n",
            "5        Daniel Gerson       7.206667\n",
            "9         George Lucas       7.179239\n",
            "11        J.K. Rowling       7.157447\n",
            "1       Andrew Stanton       7.071429\n",
            "8         Erik Sommers       7.044444\n",
            "12       James Cameron       6.926994\n",
            "6          Drew Pearce       6.800000\n",
            "18         Neal Purvis       6.785000\n",
            "16         Meg LeFauve       6.716667\n",
            "4      Colin Trevorrow       6.642857\n",
            "0        Amanda Silver       6.636842\n",
            "21          Rick Jaffa       6.600000\n",
            "15       Matthew Fogel       6.125000\n"
          ]
        }
      ]
    }
  ]
}